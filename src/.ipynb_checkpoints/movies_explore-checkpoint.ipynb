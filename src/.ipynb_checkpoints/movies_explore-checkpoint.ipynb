{
 "cells": [
  {
   "cell_type": "code",
   "execution_count": 1,
   "metadata": {},
   "outputs": [],
   "source": [
    "import os\n",
    "import pandas as pd\n",
    "import matplotlib.pyplot as plt\n",
    "import numpy as np"
   ]
  },
  {
   "cell_type": "code",
   "execution_count": 4,
   "metadata": {},
   "outputs": [],
   "source": [
    "os.chdir('/Users/size/DSI/repos/Capstone1/data')"
   ]
  },
  {
   "cell_type": "code",
   "execution_count": 6,
   "metadata": {},
   "outputs": [],
   "source": [
    "movie_df = pd.read_csv('movies.csv')"
   ]
  },
  {
   "cell_type": "code",
   "execution_count": 48,
   "metadata": {},
   "outputs": [],
   "source": [
    "def get_dollars(s):\n",
    "    if s[0] == '$':\n",
    "        return int(s[s.find(' ') + 1:])\n",
    "    else:\n",
    "        return 'Not US'"
   ]
  },
  {
   "cell_type": "code",
   "execution_count": 62,
   "metadata": {},
   "outputs": [],
   "source": [
    "m1 = movie_df['usa_gross_income'].notna()\n",
    "m2 = movie_df['budget'].notna()\n",
    "m_df = movie_df[m1 & m2].copy()\n",
    "m_df['budget'] = m_df['budget'].apply(get_dollars)\n",
    "m_df['usa_gross_income'] = m_df['usa_gross_income'].apply(get_dollars)\n",
    "m_df['worlwide_gross_income'] = m_df['worlwide_gross_income'].apply(get_dollars)\n",
    "m_df['date_published'] = pd.to_datetime(m_df['date_published'])"
   ]
  },
  {
   "cell_type": "code",
   "execution_count": 63,
   "metadata": {},
   "outputs": [
    {
     "name": "stdout",
     "output_type": "stream",
     "text": [
      "<class 'pandas.core.frame.DataFrame'>\n",
      "Int64Index: 8057 entries, 155 to 81059\n",
      "Data columns (total 22 columns):\n",
      "imdb_title_id            8057 non-null object\n",
      "title                    8057 non-null object\n",
      "original_title           8057 non-null object\n",
      "year                     8057 non-null int64\n",
      "date_published           8057 non-null datetime64[ns]\n",
      "genre                    8057 non-null object\n",
      "duration                 8057 non-null int64\n",
      "country                  8056 non-null object\n",
      "language                 8048 non-null object\n",
      "director                 8056 non-null object\n",
      "writer                   8051 non-null object\n",
      "production_company       8020 non-null object\n",
      "actors                   8056 non-null object\n",
      "description              8049 non-null object\n",
      "avg_vote                 8057 non-null float64\n",
      "votes                    8057 non-null int64\n",
      "budget                   8057 non-null object\n",
      "usa_gross_income         8057 non-null int64\n",
      "worlwide_gross_income    8057 non-null int64\n",
      "metascore                6478 non-null float64\n",
      "reviews_from_users       8045 non-null float64\n",
      "reviews_from_critics     8036 non-null float64\n",
      "dtypes: datetime64[ns](1), float64(4), int64(5), object(12)\n",
      "memory usage: 1.4+ MB\n"
     ]
    }
   ],
   "source": [
    "m_df.info()"
   ]
  },
  {
   "cell_type": "code",
   "execution_count": 85,
   "metadata": {},
   "outputs": [
    {
     "data": {
      "text/plain": [
       "1"
      ]
     },
     "execution_count": 85,
     "metadata": {},
     "output_type": "execute_result"
    }
   ],
   "source": [
    "g = [len(x.split(', ')) for x in m_df['genre']]\n",
    "min(g)"
   ]
  },
  {
   "cell_type": "code",
   "execution_count": 80,
   "metadata": {},
   "outputs": [
    {
     "name": "stdout",
     "output_type": "stream",
     "text": [
      "['Fantasy', 'Horror', 'Mystery']\n"
     ]
    }
   ],
   "source": [
    "for x in m_df['genre'][0:1]:\n",
    "    print(x.split(', '))"
   ]
  },
  {
   "cell_type": "code",
   "execution_count": 54,
   "metadata": {},
   "outputs": [
    {
     "data": {
      "text/plain": [
       "155       18000\n",
       "232      800000\n",
       "488      Not US\n",
       "1005    1500000\n",
       "2336    1500000\n",
       "2687    1499000\n",
       "3100    3977000\n",
       "3180    1900000\n",
       "3219     Not US\n",
       "3277    2777000\n",
       "Name: budget, dtype: object"
      ]
     },
     "execution_count": 54,
     "metadata": {},
     "output_type": "execute_result"
    }
   ],
   "source": [
    "m_df['budget'][:10]"
   ]
  },
  {
   "cell_type": "code",
   "execution_count": 41,
   "metadata": {},
   "outputs": [],
   "source": [
    "y = movie_df['usa_gross_income'][0]"
   ]
  },
  {
   "cell_type": "code",
   "execution_count": 45,
   "metadata": {},
   "outputs": [
    {
     "data": {
      "text/plain": [
       "nan"
      ]
     },
     "execution_count": 45,
     "metadata": {},
     "output_type": "execute_result"
    }
   ],
   "source": [
    "y"
   ]
  },
  {
   "cell_type": "code",
   "execution_count": null,
   "metadata": {},
   "outputs": [],
   "source": []
  }
 ],
 "metadata": {
  "kernelspec": {
   "display_name": "Python 3",
   "language": "python",
   "name": "python3"
  },
  "language_info": {
   "codemirror_mode": {
    "name": "ipython",
    "version": 3
   },
   "file_extension": ".py",
   "mimetype": "text/x-python",
   "name": "python",
   "nbconvert_exporter": "python",
   "pygments_lexer": "ipython3",
   "version": "3.7.4"
  }
 },
 "nbformat": 4,
 "nbformat_minor": 2
}
