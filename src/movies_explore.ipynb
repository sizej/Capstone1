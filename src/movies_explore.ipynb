{
 "cells": [
  {
   "cell_type": "code",
   "execution_count": 137,
   "metadata": {},
   "outputs": [],
   "source": [
    "import os\n",
    "import pandas as pd\n",
    "import matplotlib.pyplot as plt\n",
    "import numpy as np\n",
    "import datetime as dt"
   ]
  },
  {
   "cell_type": "code",
   "execution_count": 4,
   "metadata": {},
   "outputs": [],
   "source": [
    "os.chdir('/Users/size/DSI/repos/Capstone1/data')"
   ]
  },
  {
   "cell_type": "code",
   "execution_count": 6,
   "metadata": {},
   "outputs": [],
   "source": [
    "movie_df = pd.read_csv('movies.csv')"
   ]
  },
  {
   "cell_type": "code",
   "execution_count": 48,
   "metadata": {},
   "outputs": [],
   "source": [
    "def get_dollars(s):\n",
    "    if s[0] == '$':\n",
    "        return int(s[s.find(' ') + 1:])\n",
    "    else:\n",
    "        return 'Not US'"
   ]
  },
  {
   "cell_type": "code",
   "execution_count": 129,
   "metadata": {},
   "outputs": [],
   "source": [
    "m1 = movie_df['usa_gross_income'].notna()\n",
    "m2 = movie_df['budget'].notna()\n",
    "m_df = movie_df[m1 & m2].copy().reset_index()\n",
    "\n",
    "# renaming a few columns for ease of use\n",
    "m_df.rename(columns = {'worlwide_gross_income': 'ww_gross', \n",
    "                        'usa_gross_income': 'usa_gross',\n",
    "                        'date_published': 'release_date',\n",
    "                        'reviews_from_users': 'user_reviews',\n",
    "                        'reviews_from_critics': 'critics_reviews'}, inplace = True)\n",
    "\n",
    "# Converting some strings to ints and datetimes\n",
    "m_df['budget'] = m_df['budget'].apply(get_dollars)\n",
    "m_df['usa_gross'] = m_df['usa_gross'].apply(get_dollars)\n",
    "m_df['ww_gross'] = m_df['ww_gross'].apply(get_dollars)\n",
    "m_df['release_date'] = pd.to_datetime(m_df['release_date'])"
   ]
  },
  {
   "cell_type": "code",
   "execution_count": 130,
   "metadata": {},
   "outputs": [
    {
     "name": "stdout",
     "output_type": "stream",
     "text": [
      "<class 'pandas.core.frame.DataFrame'>\n",
      "RangeIndex: 8057 entries, 0 to 8056\n",
      "Data columns (total 23 columns):\n",
      "index                 8057 non-null int64\n",
      "imdb_title_id         8057 non-null object\n",
      "title                 8057 non-null object\n",
      "original_title        8057 non-null object\n",
      "year                  8057 non-null int64\n",
      "release_date          8057 non-null datetime64[ns]\n",
      "genre                 8057 non-null object\n",
      "duration              8057 non-null int64\n",
      "country               8056 non-null object\n",
      "language              8048 non-null object\n",
      "director              8056 non-null object\n",
      "writer                8051 non-null object\n",
      "production_company    8020 non-null object\n",
      "actors                8056 non-null object\n",
      "description           8049 non-null object\n",
      "avg_vote              8057 non-null float64\n",
      "votes                 8057 non-null int64\n",
      "budget                8057 non-null object\n",
      "usa_gross             8057 non-null int64\n",
      "ww_gross              8057 non-null int64\n",
      "metascore             6478 non-null float64\n",
      "user_reviews          8045 non-null float64\n",
      "critics_reviews       8036 non-null float64\n",
      "dtypes: datetime64[ns](1), float64(4), int64(6), object(12)\n",
      "memory usage: 1.4+ MB\n"
     ]
    }
   ],
   "source": [
    "m_df.info()"
   ]
  },
  {
   "cell_type": "code",
   "execution_count": 131,
   "metadata": {},
   "outputs": [
    {
     "data": {
      "text/plain": [
       "Drama                         484\n",
       "Comedy, Drama, Romance        379\n",
       "Comedy, Drama                 349\n",
       "Comedy                        331\n",
       "Drama, Romance                279\n",
       "                             ... \n",
       "Fantasy, Horror, Sci-Fi         1\n",
       "Animation, Comedy, Musical      1\n",
       "War, Drama                      1\n",
       "Fantasy, Horror, Romance        1\n",
       "Drama, Fantasy, Music           1\n",
       "Name: genre, Length: 454, dtype: int64"
      ]
     },
     "execution_count": 131,
     "metadata": {},
     "output_type": "execute_result"
    }
   ],
   "source": [
    "m_df['genre'].value_counts()"
   ]
  },
  {
   "cell_type": "code",
   "execution_count": 132,
   "metadata": {},
   "outputs": [],
   "source": [
    "# KEEP THIS....\n",
    "m_df['genre'] = [x.split(', ') for x in m_df['genre']]"
   ]
  },
  {
   "cell_type": "code",
   "execution_count": 133,
   "metadata": {},
   "outputs": [
    {
     "data": {
      "text/html": [
       "<div>\n",
       "<style scoped>\n",
       "    .dataframe tbody tr th:only-of-type {\n",
       "        vertical-align: middle;\n",
       "    }\n",
       "\n",
       "    .dataframe tbody tr th {\n",
       "        vertical-align: top;\n",
       "    }\n",
       "\n",
       "    .dataframe thead th {\n",
       "        text-align: right;\n",
       "    }\n",
       "</style>\n",
       "<table border=\"1\" class=\"dataframe\">\n",
       "  <thead>\n",
       "    <tr style=\"text-align: right;\">\n",
       "      <th></th>\n",
       "      <th>index</th>\n",
       "      <th>imdb_title_id</th>\n",
       "      <th>title</th>\n",
       "      <th>original_title</th>\n",
       "      <th>year</th>\n",
       "      <th>release_date</th>\n",
       "      <th>genre</th>\n",
       "      <th>duration</th>\n",
       "      <th>country</th>\n",
       "      <th>language</th>\n",
       "      <th>...</th>\n",
       "      <th>votes</th>\n",
       "      <th>budget</th>\n",
       "      <th>usa_gross</th>\n",
       "      <th>ww_gross</th>\n",
       "      <th>metascore</th>\n",
       "      <th>user_reviews</th>\n",
       "      <th>critics_reviews</th>\n",
       "      <th>genre1</th>\n",
       "      <th>genre2</th>\n",
       "      <th>genre3</th>\n",
       "    </tr>\n",
       "  </thead>\n",
       "  <tbody>\n",
       "    <tr>\n",
       "      <td>0</td>\n",
       "      <td>155</td>\n",
       "      <td>tt0010323</td>\n",
       "      <td>Das Cabinet des Dr. Caligari</td>\n",
       "      <td>Das Cabinet des Dr. Caligari</td>\n",
       "      <td>1920</td>\n",
       "      <td>1920-02-27</td>\n",
       "      <td>[Fantasy, Horror, Mystery]</td>\n",
       "      <td>76</td>\n",
       "      <td>Germany</td>\n",
       "      <td>German</td>\n",
       "      <td>...</td>\n",
       "      <td>51644</td>\n",
       "      <td>18000</td>\n",
       "      <td>8811</td>\n",
       "      <td>8811</td>\n",
       "      <td>NaN</td>\n",
       "      <td>218.0</td>\n",
       "      <td>148.0</td>\n",
       "      <td>Fantasy</td>\n",
       "      <td>Horror</td>\n",
       "      <td>Mystery</td>\n",
       "    </tr>\n",
       "    <tr>\n",
       "      <td>1</td>\n",
       "      <td>232</td>\n",
       "      <td>tt0012190</td>\n",
       "      <td>The Four Horsemen of the Apocalypse</td>\n",
       "      <td>The Four Horsemen of the Apocalypse</td>\n",
       "      <td>1921</td>\n",
       "      <td>1923-01-08</td>\n",
       "      <td>[Drama, Romance, War]</td>\n",
       "      <td>150</td>\n",
       "      <td>USA</td>\n",
       "      <td>None</td>\n",
       "      <td>...</td>\n",
       "      <td>2935</td>\n",
       "      <td>800000</td>\n",
       "      <td>9183673</td>\n",
       "      <td>9183673</td>\n",
       "      <td>NaN</td>\n",
       "      <td>44.0</td>\n",
       "      <td>16.0</td>\n",
       "      <td>Drama</td>\n",
       "      <td>Romance</td>\n",
       "      <td>War</td>\n",
       "    </tr>\n",
       "    <tr>\n",
       "      <td>2</td>\n",
       "      <td>488</td>\n",
       "      <td>tt0017136</td>\n",
       "      <td>Metropolis</td>\n",
       "      <td>Metropolis</td>\n",
       "      <td>1927</td>\n",
       "      <td>1927-02-06</td>\n",
       "      <td>[Drama, Sci-Fi]</td>\n",
       "      <td>153</td>\n",
       "      <td>Germany</td>\n",
       "      <td>German</td>\n",
       "      <td>...</td>\n",
       "      <td>148396</td>\n",
       "      <td>Not US</td>\n",
       "      <td>1236166</td>\n",
       "      <td>1349711</td>\n",
       "      <td>98.0</td>\n",
       "      <td>471.0</td>\n",
       "      <td>194.0</td>\n",
       "      <td>Drama</td>\n",
       "      <td>Sci-Fi</td>\n",
       "      <td>None</td>\n",
       "    </tr>\n",
       "    <tr>\n",
       "      <td>3</td>\n",
       "      <td>1005</td>\n",
       "      <td>tt0021749</td>\n",
       "      <td>City Lights</td>\n",
       "      <td>City Lights</td>\n",
       "      <td>1931</td>\n",
       "      <td>1931-08-21</td>\n",
       "      <td>[Comedy, Drama, Romance]</td>\n",
       "      <td>87</td>\n",
       "      <td>USA</td>\n",
       "      <td>English</td>\n",
       "      <td>...</td>\n",
       "      <td>152716</td>\n",
       "      <td>1500000</td>\n",
       "      <td>19181</td>\n",
       "      <td>32609</td>\n",
       "      <td>99.0</td>\n",
       "      <td>270.0</td>\n",
       "      <td>120.0</td>\n",
       "      <td>Comedy</td>\n",
       "      <td>Drama</td>\n",
       "      <td>Romance</td>\n",
       "    </tr>\n",
       "    <tr>\n",
       "      <td>4</td>\n",
       "      <td>2336</td>\n",
       "      <td>tt0027977</td>\n",
       "      <td>Modern Times</td>\n",
       "      <td>Modern Times</td>\n",
       "      <td>1936</td>\n",
       "      <td>1936-10-16</td>\n",
       "      <td>[Comedy, Drama, Family]</td>\n",
       "      <td>87</td>\n",
       "      <td>USA</td>\n",
       "      <td>English</td>\n",
       "      <td>...</td>\n",
       "      <td>197969</td>\n",
       "      <td>1500000</td>\n",
       "      <td>163577</td>\n",
       "      <td>445226</td>\n",
       "      <td>96.0</td>\n",
       "      <td>262.0</td>\n",
       "      <td>146.0</td>\n",
       "      <td>Comedy</td>\n",
       "      <td>Drama</td>\n",
       "      <td>Family</td>\n",
       "    </tr>\n",
       "  </tbody>\n",
       "</table>\n",
       "<p>5 rows × 26 columns</p>\n",
       "</div>"
      ],
      "text/plain": [
       "   index imdb_title_id                                title  \\\n",
       "0    155     tt0010323         Das Cabinet des Dr. Caligari   \n",
       "1    232     tt0012190  The Four Horsemen of the Apocalypse   \n",
       "2    488     tt0017136                           Metropolis   \n",
       "3   1005     tt0021749                          City Lights   \n",
       "4   2336     tt0027977                         Modern Times   \n",
       "\n",
       "                        original_title  year release_date  \\\n",
       "0         Das Cabinet des Dr. Caligari  1920   1920-02-27   \n",
       "1  The Four Horsemen of the Apocalypse  1921   1923-01-08   \n",
       "2                           Metropolis  1927   1927-02-06   \n",
       "3                          City Lights  1931   1931-08-21   \n",
       "4                         Modern Times  1936   1936-10-16   \n",
       "\n",
       "                        genre  duration  country language  ...   votes  \\\n",
       "0  [Fantasy, Horror, Mystery]        76  Germany   German  ...   51644   \n",
       "1       [Drama, Romance, War]       150      USA     None  ...    2935   \n",
       "2             [Drama, Sci-Fi]       153  Germany   German  ...  148396   \n",
       "3    [Comedy, Drama, Romance]        87      USA  English  ...  152716   \n",
       "4     [Comedy, Drama, Family]        87      USA  English  ...  197969   \n",
       "\n",
       "    budget usa_gross ww_gross metascore  user_reviews  critics_reviews  \\\n",
       "0    18000      8811     8811       NaN         218.0            148.0   \n",
       "1   800000   9183673  9183673       NaN          44.0             16.0   \n",
       "2   Not US   1236166  1349711      98.0         471.0            194.0   \n",
       "3  1500000     19181    32609      99.0         270.0            120.0   \n",
       "4  1500000    163577   445226      96.0         262.0            146.0   \n",
       "\n",
       "    genre1   genre2   genre3  \n",
       "0  Fantasy   Horror  Mystery  \n",
       "1    Drama  Romance      War  \n",
       "2    Drama   Sci-Fi     None  \n",
       "3   Comedy    Drama  Romance  \n",
       "4   Comedy    Drama   Family  \n",
       "\n",
       "[5 rows x 26 columns]"
      ]
     },
     "execution_count": 133,
     "metadata": {},
     "output_type": "execute_result"
    }
   ],
   "source": [
    "genre_df = pd.DataFrame(m_df['genre'].values.tolist(), columns = ['genre1', 'genre2', 'genre3'])\n",
    "m_df = m_df.join(genre_df, how = 'left')\n",
    "m_df.head()"
   ]
  },
  {
   "cell_type": "code",
   "execution_count": 134,
   "metadata": {},
   "outputs": [
    {
     "data": {
      "text/plain": [
       "USA                                                                          4447\n",
       "UK, USA                                                                       231\n",
       "UK                                                                            174\n",
       "USA, Canada                                                                   157\n",
       "USA, UK                                                                       155\n",
       "                                                                             ... \n",
       "UK, Germany, USA, Vietnam, Australia, France, Canada                            1\n",
       "Argentina, Italy, Netherlands, Spain                                            1\n",
       "Turkey                                                                          1\n",
       "Brazil, USA, France                                                             1\n",
       "Denmark, Netherlands, Sweden, Germany, UK, France, Finland, Norway, Italy       1\n",
       "Name: country, Length: 1035, dtype: int64"
      ]
     },
     "execution_count": 134,
     "metadata": {},
     "output_type": "execute_result"
    }
   ],
   "source": [
    "m_df['country'].value_counts()"
   ]
  },
  {
   "cell_type": "code",
   "execution_count": 121,
   "metadata": {},
   "outputs": [],
   "source": [
    "genres = m_df['genre'].to_numpy()\n",
    "g = []\n",
    "for x in genres:\n",
    "    for i in x:\n",
    "        g.append(i)\n",
    "genres = set(g)"
   ]
  },
  {
   "cell_type": "code",
   "execution_count": 136,
   "metadata": {},
   "outputs": [
    {
     "data": {
      "text/plain": [
       "8057"
      ]
     },
     "execution_count": 136,
     "metadata": {},
     "output_type": "execute_result"
    }
   ],
   "source": [
    "len(m_df['usa_gross'])"
   ]
  },
  {
   "cell_type": "code",
   "execution_count": null,
   "metadata": {},
   "outputs": [],
   "source": [
    "df2 = pd.DataFrame(df['meta'].str.split().values.tolist())"
   ]
  },
  {
   "cell_type": "code",
   "execution_count": 128,
   "metadata": {},
   "outputs": [
    {
     "data": {
      "text/html": [
       "<div>\n",
       "<style scoped>\n",
       "    .dataframe tbody tr th:only-of-type {\n",
       "        vertical-align: middle;\n",
       "    }\n",
       "\n",
       "    .dataframe tbody tr th {\n",
       "        vertical-align: top;\n",
       "    }\n",
       "\n",
       "    .dataframe thead th {\n",
       "        text-align: right;\n",
       "    }\n",
       "</style>\n",
       "<table border=\"1\" class=\"dataframe\">\n",
       "  <thead>\n",
       "    <tr style=\"text-align: right;\">\n",
       "      <th></th>\n",
       "      <th>genre1</th>\n",
       "      <th>genre2</th>\n",
       "      <th>genre3</th>\n",
       "    </tr>\n",
       "  </thead>\n",
       "  <tbody>\n",
       "    <tr>\n",
       "      <td>0</td>\n",
       "      <td>Fantasy</td>\n",
       "      <td>Horror</td>\n",
       "      <td>Mystery</td>\n",
       "    </tr>\n",
       "    <tr>\n",
       "      <td>1</td>\n",
       "      <td>Drama</td>\n",
       "      <td>Romance</td>\n",
       "      <td>War</td>\n",
       "    </tr>\n",
       "    <tr>\n",
       "      <td>2</td>\n",
       "      <td>Drama</td>\n",
       "      <td>Sci-Fi</td>\n",
       "      <td>None</td>\n",
       "    </tr>\n",
       "    <tr>\n",
       "      <td>3</td>\n",
       "      <td>Comedy</td>\n",
       "      <td>Drama</td>\n",
       "      <td>Romance</td>\n",
       "    </tr>\n",
       "    <tr>\n",
       "      <td>4</td>\n",
       "      <td>Comedy</td>\n",
       "      <td>Drama</td>\n",
       "      <td>Family</td>\n",
       "    </tr>\n",
       "    <tr>\n",
       "      <td>...</td>\n",
       "      <td>...</td>\n",
       "      <td>...</td>\n",
       "      <td>...</td>\n",
       "    </tr>\n",
       "    <tr>\n",
       "      <td>8052</td>\n",
       "      <td>Horror</td>\n",
       "      <td>None</td>\n",
       "      <td>None</td>\n",
       "    </tr>\n",
       "    <tr>\n",
       "      <td>8053</td>\n",
       "      <td>Biography</td>\n",
       "      <td>Drama</td>\n",
       "      <td>None</td>\n",
       "    </tr>\n",
       "    <tr>\n",
       "      <td>8054</td>\n",
       "      <td>Action</td>\n",
       "      <td>Thriller</td>\n",
       "      <td>None</td>\n",
       "    </tr>\n",
       "    <tr>\n",
       "      <td>8055</td>\n",
       "      <td>Comedy</td>\n",
       "      <td>Family</td>\n",
       "      <td>None</td>\n",
       "    </tr>\n",
       "    <tr>\n",
       "      <td>8056</td>\n",
       "      <td>Comedy</td>\n",
       "      <td>None</td>\n",
       "      <td>None</td>\n",
       "    </tr>\n",
       "  </tbody>\n",
       "</table>\n",
       "<p>8057 rows × 3 columns</p>\n",
       "</div>"
      ],
      "text/plain": [
       "         genre1    genre2   genre3\n",
       "0       Fantasy    Horror  Mystery\n",
       "1         Drama   Romance      War\n",
       "2         Drama    Sci-Fi     None\n",
       "3        Comedy     Drama  Romance\n",
       "4        Comedy     Drama   Family\n",
       "...         ...       ...      ...\n",
       "8052     Horror      None     None\n",
       "8053  Biography     Drama     None\n",
       "8054     Action  Thriller     None\n",
       "8055     Comedy    Family     None\n",
       "8056     Comedy      None     None\n",
       "\n",
       "[8057 rows x 3 columns]"
      ]
     },
     "execution_count": 128,
     "metadata": {},
     "output_type": "execute_result"
    }
   ],
   "source": [
    "pd.DataFrame(m_df['genre'].values.tolist(), columns = ['genre1', 'genre2', 'genre3'])\n"
   ]
  },
  {
   "cell_type": "code",
   "execution_count": 142,
   "metadata": {},
   "outputs": [
    {
     "data": {
      "text/plain": [
       "3"
      ]
     },
     "execution_count": 142,
     "metadata": {},
     "output_type": "execute_result"
    }
   ],
   "source": [
    "dt.datetime.today().timetuple().tm_yday"
   ]
  },
  {
   "cell_type": "code",
   "execution_count": 147,
   "metadata": {},
   "outputs": [
    {
     "data": {
      "text/plain": [
       "8"
      ]
     },
     "execution_count": 147,
     "metadata": {},
     "output_type": "execute_result"
    }
   ],
   "source": [
    "m_df['release_date'][0].timetuple().tm_yday // 7"
   ]
  },
  {
   "cell_type": "code",
   "execution_count": 180,
   "metadata": {},
   "outputs": [],
   "source": [
    "# get down just to major releases (by budget minimum and excluding Not US films)\n",
    "m1 = m_df['budget']\n",
    "# calculate performance metric (ww_gross / budget)\n",
    "\n",
    "m_df2 = m_df[m_df['budget'] != 'Not US'].copy()\n",
    "m_df2['perf_ratio'] = pd.to_numeric(m_df2['ww_gross'] / m_df2['budget'])\n",
    "\n",
    "# get some columns to breakdown movies across various times\n",
    "# by month, week, etc.\n",
    "m_df2['release_month'] = [x.month for x in m_df2['release_date']]\n",
    "m_df2['release_week'] = [x.timetuple().tm_yday // 7 for x in m_df2['release_date']]\n"
   ]
  },
  {
   "cell_type": "code",
   "execution_count": 188,
   "metadata": {},
   "outputs": [
    {
     "data": {
      "text/plain": [
       "<matplotlib.axes._subplots.AxesSubplot at 0x7fe0683f8850>"
      ]
     },
     "execution_count": 188,
     "metadata": {},
     "output_type": "execute_result"
    },
    {
     "data": {
      "image/png": "[encoded data removed]",
      "text/plain": [
       "<Figure size 432x288 with 1 Axes>"
      ]
     },
     "metadata": {
      "needs_background": "light"
     },
     "output_type": "display_data"
    }
   ],
   "source": [
    "m_df2.groupby('release_month').agg({'perf_ratio': 'mean'}).plot()"
   ]
  },
  {
   "cell_type": "code",
   "execution_count": 182,
   "metadata": {},
   "outputs": [
    {
     "data": {
      "text/plain": [
       "count    7.224000e+03\n",
       "mean     8.050025e+02\n",
       "std      5.066805e+04\n",
       "min      1.500000e-05\n",
       "25%      4.072207e-01\n",
       "50%      1.435941e+00\n",
       "75%      3.346930e+00\n",
       "max      3.857119e+06\n",
       "Name: perf_ratio, dtype: float64"
      ]
     },
     "execution_count": 182,
     "metadata": {},
     "output_type": "execute_result"
    }
   ],
   "source": [
    "m_df2['perf_ratio'].describe()"
   ]
  },
  {
   "cell_type": "code",
   "execution_count": 187,
   "metadata": {},
   "outputs": [
    {
     "data": {
      "text/html": [
       "<div>\n",
       "<style scoped>\n",
       "    .dataframe tbody tr th:only-of-type {\n",
       "        vertical-align: middle;\n",
       "    }\n",
       "\n",
       "    .dataframe tbody tr th {\n",
       "        vertical-align: top;\n",
       "    }\n",
       "\n",
       "    .dataframe thead th {\n",
       "        text-align: right;\n",
       "    }\n",
       "</style>\n",
       "<table border=\"1\" class=\"dataframe\">\n",
       "  <thead>\n",
       "    <tr style=\"text-align: right;\">\n",
       "      <th></th>\n",
       "      <th>title</th>\n",
       "      <th>release_date</th>\n",
       "      <th>budget</th>\n",
       "      <th>ww_gross</th>\n",
       "      <th>perf_ratio</th>\n",
       "    </tr>\n",
       "  </thead>\n",
       "  <tbody>\n",
       "    <tr>\n",
       "      <td>524</td>\n",
       "      <td>Poltergeist</td>\n",
       "      <td>1982-09-24</td>\n",
       "      <td>20</td>\n",
       "      <td>77142388</td>\n",
       "      <td>3.857119e+06</td>\n",
       "    </tr>\n",
       "    <tr>\n",
       "      <td>6582</td>\n",
       "      <td>Fetih 1453</td>\n",
       "      <td>2012-02-16</td>\n",
       "      <td>18</td>\n",
       "      <td>34484837</td>\n",
       "      <td>1.915824e+06</td>\n",
       "    </tr>\n",
       "    <tr>\n",
       "      <td>5711</td>\n",
       "      <td>Paranormal Activity</td>\n",
       "      <td>2009-11-25</td>\n",
       "      <td>15000</td>\n",
       "      <td>193355800</td>\n",
       "      <td>1.289039e+04</td>\n",
       "    </tr>\n",
       "    <tr>\n",
       "      <td>2978</td>\n",
       "      <td>The Blair Witch Project</td>\n",
       "      <td>1999-10-22</td>\n",
       "      <td>60000</td>\n",
       "      <td>248639099</td>\n",
       "      <td>4.143985e+03</td>\n",
       "    </tr>\n",
       "    <tr>\n",
       "      <td>6992</td>\n",
       "      <td>The Gallows</td>\n",
       "      <td>2015-07-17</td>\n",
       "      <td>100000</td>\n",
       "      <td>42964410</td>\n",
       "      <td>4.296441e+02</td>\n",
       "    </tr>\n",
       "  </tbody>\n",
       "</table>\n",
       "</div>"
      ],
      "text/plain": [
       "                        title release_date  budget   ww_gross    perf_ratio\n",
       "524               Poltergeist   1982-09-24      20   77142388  3.857119e+06\n",
       "6582               Fetih 1453   2012-02-16      18   34484837  1.915824e+06\n",
       "5711      Paranormal Activity   2009-11-25   15000  193355800  1.289039e+04\n",
       "2978  The Blair Witch Project   1999-10-22   60000  248639099  4.143985e+03\n",
       "6992              The Gallows   2015-07-17  100000   42964410  4.296441e+02"
      ]
     },
     "execution_count": 187,
     "metadata": {},
     "output_type": "execute_result"
    }
   ],
   "source": [
    "m_df2[['title','release_date','budget','ww_gross','perf_ratio']].sort_values(by = 'perf_ratio', ascending = False).head()"
   ]
  },
  {
   "cell_type": "code",
   "execution_count": 189,
   "metadata": {},
   "outputs": [
    {
     "ename": "SyntaxError",
     "evalue": "invalid syntax (<ipython-input-189-7396a023aab8>, line 1)",
     "output_type": "error",
     "traceback": [
      "\u001b[0;36m  File \u001b[0;32m\"<ipython-input-189-7396a023aab8>\"\u001b[0;36m, line \u001b[0;32m1\u001b[0m\n\u001b[0;31m    m_df2.lambda(row: row['budget'] > 100000)\u001b[0m\n\u001b[0m               ^\u001b[0m\n\u001b[0;31mSyntaxError\u001b[0m\u001b[0;31m:\u001b[0m invalid syntax\n"
     ]
    }
   ],
   "source": []
  },
  {
   "cell_type": "code",
   "execution_count": null,
   "metadata": {},
   "outputs": [],
   "source": []
  }
 ],
 "metadata": {
  "kernelspec": {
   "display_name": "Python 3",
   "language": "python",
   "name": "python3"
  },
  "language_info": {
   "codemirror_mode": {
    "name": "ipython",
    "version": 3
   },
   "file_extension": ".py",
   "mimetype": "text/x-python",
   "name": "python",
   "nbconvert_exporter": "python",
   "pygments_lexer": "ipython3",
   "version": "3.7.4"
  }
 },
 "nbformat": 4,
 "nbformat_minor": 2
}
